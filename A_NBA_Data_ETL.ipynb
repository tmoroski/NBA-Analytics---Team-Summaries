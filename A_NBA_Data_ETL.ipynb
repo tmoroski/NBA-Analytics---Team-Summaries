{
 "cells": [
  {
   "cell_type": "markdown",
   "metadata": {},
   "source": [
    "# NBA Player Data Scrapper 2000 - 2020 Seasons\n",
    "* NBAReference.com"
   ]
  },
  {
   "cell_type": "code",
   "execution_count": 1,
   "metadata": {},
   "outputs": [],
   "source": [
    "import pandas as pd\n",
    "import numpy as np\n",
    "from urllib.request import urlopen\n",
    "from bs4 import BeautifulSoup"
   ]
  },
  {
   "cell_type": "raw",
   "metadata": {},
   "source": [
    "#URL List\n",
    "2020 season -> \"https://www.basketball-reference.com/leagues/NBA_2020_totals.html\"\n",
    "2019 Season -> \"https://www.basketball-reference.com/leagues/NBA_2019_totals.html\"\n",
    "2018 Season -> \"https://www.basketball-reference.com/leagues/NBA_2018_totals.html\"\n",
    "2017 Season -> \"https://www.basketball-reference.com/leagues/NBA_2017_totals.html\"\n",
    "2016 Season -> \"https://www.basketball-reference.com/leagues/NBA_2016_totals.html\"\n",
    "2015 Season -> \"https://www.basketball-reference.com/leagues/NBA_2015_totals.html\"\n",
    "2014 season -> \"https://www.basketball-reference.com/leagues/NBA_2014_totals.html\"\n",
    "2013 Season -> \"https://www.basketball-reference.com/leagues/NBA_2013_totals.html\"\n",
    "2012 Season -> \"https://www.basketball-reference.com/leagues/NBA_2012_totals.html\"\n",
    "2011 Season -> \"https://www.basketball-reference.com/leagues/NBA_2011_totals.html\"\n",
    "2010 Season -> \"https://www.basketball-reference.com/leagues/NBA_2010_totals.html\"\n",
    "2009 Season -> \"https://www.basketball-reference.com/leagues/NBA_2009_totals.html\"\n",
    "2008 Season -> \"https://www.basketball-reference.com/leagues/NBA_2008_totals.html\"\n",
    "2007 Season -> \"https://www.basketball-reference.com/leagues/NBA_2007_totals.html\"\n",
    "2006 Season -> \"https://www.basketball-reference.com/leagues/NBA_2006_totals.html\"\n",
    "2005 Season -> \"https://www.basketball-reference.com/leagues/NBA_2005_totals.html\"\n",
    "2004 Season -> \"https://www.basketball-reference.com/leagues/NBA_2004_totals.html\"\n",
    "2003 Season -> \"https://www.basketball-reference.com/leagues/NBA_2003_totals.html\"\n",
    "2002 Season -> \"https://www.basketball-reference.com/leagues/NBA_2002_totals.html\"\n",
    "2001 Season -> \"https://www.basketball-reference.com/leagues/NBA_2001_totals.html\"\n",
    "2000 Season -> \"https://www.basketball-reference.com/leagues/NBA_2000_totals.html\""
   ]
  },
  {
   "cell_type": "code",
   "execution_count": 2,
   "metadata": {},
   "outputs": [],
   "source": [
    "#Year List\n",
    "year20 = 2020\n",
    "year19 = 2019\n",
    "year18 = 2018\n",
    "year17 = 2017\n",
    "year16 = 2016\n",
    "year15 = 2015\n",
    "year14 = 2014\n",
    "year13 = 2013\n",
    "year12 = 2012\n",
    "year11 = 2011\n",
    "year10 = 2010\n",
    "year09 = 2009\n",
    "year08 = 2008\n",
    "year07 = 2007\n",
    "year06 = 2006\n",
    "year05 = 2005\n",
    "year04 = 2004\n",
    "year03 = 2003\n",
    "year02 = 2002\n",
    "year01 = 2001\n",
    "year00 = 2000"
   ]
  },
  {
   "cell_type": "code",
   "execution_count": 3,
   "metadata": {},
   "outputs": [],
   "source": [
    "#Season Identifier\n",
    "s20 = '2020'\n",
    "s19 = '2019'\n",
    "s18 = '2018'\n",
    "s17 = '2017'\n",
    "s16 = '2016'\n",
    "s15 = '2015'\n",
    "s14 = '2014'\n",
    "s13 = '2013'\n",
    "s12 = '2012'\n",
    "s11 = '2011'\n",
    "s10 = '2010'\n",
    "s09 = '2009'\n",
    "s08 = '2008'\n",
    "s07 = '2007'\n",
    "s06 = '2006'\n",
    "s05 = '2005'\n",
    "s04 = '2004'\n",
    "s03 = '2003'\n",
    "s02 = '2002'\n",
    "s01 = '2001'\n",
    "s00 = '2000'"
   ]
  },
  {
   "cell_type": "code",
   "execution_count": 4,
   "metadata": {},
   "outputs": [],
   "source": [
    "def player_data(n,x,t):\n",
    "    year = n\n",
    "    url = x.format(n)\n",
    "    html = urlopen(url)\n",
    "    soup = BeautifulSoup(html)\n",
    "    soup.findAll('tr', limit=2)\n",
    "    headers = [th.getText() for th in soup.findAll('tr', limit=2)[0].findAll('th')]\n",
    "    headers = headers[1:]\n",
    "    rows = soup.findAll('tr')[1:]\n",
    "    player_stats = [[td.getText() for td in rows[i].findAll('td')]\n",
    "            for i in range(len(rows))]\n",
    "    stats = pd.DataFrame(player_stats, columns = headers)\n",
    "    stats['Season'] = t\n",
    "    return stats"
   ]
  },
  {
   "cell_type": "markdown",
   "metadata": {},
   "source": [
    "## Grabbing Data from from the 2009-10 to 2019-20 NBA Seasons"
   ]
  },
  {
   "cell_type": "code",
   "execution_count": 5,
   "metadata": {},
   "outputs": [],
   "source": [
    "player_data(year20,\"https://www.basketball-reference.com/leagues/NBA_2020_totals.html\",s20).to_csv('2020_Player_Stats.csv',index = False)"
   ]
  },
  {
   "cell_type": "code",
   "execution_count": 6,
   "metadata": {},
   "outputs": [],
   "source": [
    "player_data(year19,\"https://www.basketball-reference.com/leagues/NBA_2019_totals.html\",s19).to_csv('2019_Player_Stats.csv', index = False)"
   ]
  },
  {
   "cell_type": "code",
   "execution_count": 7,
   "metadata": {},
   "outputs": [],
   "source": [
    "player_data(year18,\"https://www.basketball-reference.com/leagues/NBA_2018_totals.html\",s18).to_csv('2018_Player_Stats.csv', index = False)"
   ]
  },
  {
   "cell_type": "code",
   "execution_count": 8,
   "metadata": {},
   "outputs": [],
   "source": [
    "player_data(year17,\"https://www.basketball-reference.com/leagues/NBA_2017_totals.html\",s17).to_csv('2017_Player_Stats.csv', index = False)"
   ]
  },
  {
   "cell_type": "code",
   "execution_count": 9,
   "metadata": {},
   "outputs": [],
   "source": [
    "player_data(year16,\"https://www.basketball-reference.com/leagues/NBA_2016_totals.html\",s16).to_csv('2016_Player_Stats.csv', index = False)"
   ]
  },
  {
   "cell_type": "code",
   "execution_count": 10,
   "metadata": {},
   "outputs": [],
   "source": [
    "player_data(year15,\"https://www.basketball-reference.com/leagues/NBA_2015_totals.html\",s15).to_csv('2015_Player_Stats.csv', index = False)"
   ]
  },
  {
   "cell_type": "code",
   "execution_count": 11,
   "metadata": {},
   "outputs": [],
   "source": [
    "player_data(year14,\"https://www.basketball-reference.com/leagues/NBA_2014_totals.html\",s14).to_csv('2014_Player_Stats.csv', index = False)"
   ]
  },
  {
   "cell_type": "code",
   "execution_count": 12,
   "metadata": {},
   "outputs": [],
   "source": [
    "player_data(year13,\"https://www.basketball-reference.com/leagues/NBA_2013_totals.html\",s13).to_csv('2013_Player_Stats.csv', index = False)"
   ]
  },
  {
   "cell_type": "code",
   "execution_count": 13,
   "metadata": {},
   "outputs": [],
   "source": [
    "player_data(year12,\"https://www.basketball-reference.com/leagues/NBA_2012_totals.html\",s12).to_csv('2012_Player_Stats.csv', index = False)"
   ]
  },
  {
   "cell_type": "code",
   "execution_count": 14,
   "metadata": {},
   "outputs": [],
   "source": [
    "player_data(year11,\"https://www.basketball-reference.com/leagues/NBA_2011_totals.html\",s11).to_csv('2011_Player_Stats.csv', index = False)"
   ]
  },
  {
   "cell_type": "code",
   "execution_count": 15,
   "metadata": {},
   "outputs": [],
   "source": [
    "player_data(year10,\"https://www.basketball-reference.com/leagues/NBA_2010_totals.html\",s10).to_csv('2010_Player_Stats.csv', index = False)"
   ]
  },
  {
   "cell_type": "code",
   "execution_count": 16,
   "metadata": {},
   "outputs": [],
   "source": [
    "player_data(year09,\"https://www.basketball-reference.com/leagues/NBA_2009_totals.html\",s09).to_csv('2009_Player_Stats.csv', index = False)"
   ]
  },
  {
   "cell_type": "code",
   "execution_count": 17,
   "metadata": {},
   "outputs": [],
   "source": [
    "player_data(year08,\"https://www.basketball-reference.com/leagues/NBA_2008_totals.html\",s08).to_csv('2008_Player_Stats.csv', index = False)"
   ]
  },
  {
   "cell_type": "code",
   "execution_count": 18,
   "metadata": {},
   "outputs": [],
   "source": [
    "player_data(year07,\"https://www.basketball-reference.com/leagues/NBA_2007_totals.html\",s07).to_csv('2007_Player_Stats.csv', index = False)"
   ]
  },
  {
   "cell_type": "code",
   "execution_count": 19,
   "metadata": {},
   "outputs": [],
   "source": [
    "player_data(year06,\"https://www.basketball-reference.com/leagues/NBA_2006_totals.html\",s06).to_csv('2006_Player_Stats.csv', index = False)"
   ]
  },
  {
   "cell_type": "code",
   "execution_count": 20,
   "metadata": {},
   "outputs": [],
   "source": [
    "player_data(year05,\"https://www.basketball-reference.com/leagues/NBA_2005_totals.html\",s05).to_csv('2005_Player_Stats.csv', index = False)"
   ]
  },
  {
   "cell_type": "code",
   "execution_count": 21,
   "metadata": {},
   "outputs": [],
   "source": [
    "player_data(year04,\"https://www.basketball-reference.com/leagues/NBA_2004_totals.html\",s04).to_csv('2004_Player_Stats.csv', index = False)"
   ]
  },
  {
   "cell_type": "code",
   "execution_count": 22,
   "metadata": {},
   "outputs": [],
   "source": [
    "player_data(year03,\"https://www.basketball-reference.com/leagues/NBA_2003_totals.html\",s03).to_csv('2003_Player_Stats.csv', index = False)"
   ]
  },
  {
   "cell_type": "code",
   "execution_count": 23,
   "metadata": {},
   "outputs": [],
   "source": [
    "player_data(year02,\"https://www.basketball-reference.com/leagues/NBA_2002_totals.html\",s02).to_csv('2002_Player_Stats.csv', index = False)"
   ]
  },
  {
   "cell_type": "code",
   "execution_count": 24,
   "metadata": {},
   "outputs": [],
   "source": [
    "player_data(year01,\"https://www.basketball-reference.com/leagues/NBA_2001_totals.html\",s01).to_csv('2001_Player_Stats.csv', index = False)"
   ]
  },
  {
   "cell_type": "code",
   "execution_count": 25,
   "metadata": {},
   "outputs": [],
   "source": [
    "player_data(year00,\"https://www.basketball-reference.com/leagues/NBA_2000_totals.html\",s00).to_csv('2000_Player_Stats.csv', index = False)"
   ]
  },
  {
   "cell_type": "markdown",
   "metadata": {},
   "source": [
    "## Archive Code - Scrapping Method Description"
   ]
  },
  {
   "cell_type": "code",
   "execution_count": 26,
   "metadata": {},
   "outputs": [],
   "source": [
    "#Scrapping data for the NBA 2019-2020 season\n",
    "#Player data - will be brought in from NBA Reference.com\n",
    "#year = 2020"
   ]
  },
  {
   "cell_type": "code",
   "execution_count": 27,
   "metadata": {},
   "outputs": [],
   "source": [
    "#Target URL to be scrapped...calling on the year variable to create a more specific search\n",
    "#url = \"https://www.basketball-reference.com/leagues/NBA_2020_totals.html\".format(year)"
   ]
  },
  {
   "cell_type": "code",
   "execution_count": 28,
   "metadata": {},
   "outputs": [],
   "source": [
    "#Enabling the url to establish connection\n",
    "#html = urlopen(url)"
   ]
  },
  {
   "cell_type": "code",
   "execution_count": 29,
   "metadata": {},
   "outputs": [],
   "source": [
    "#Passing the Beuatiful Suop object through the url linked website\n",
    "#soup = BeautifulSoup(html)"
   ]
  },
  {
   "cell_type": "code",
   "execution_count": 30,
   "metadata": {},
   "outputs": [],
   "source": [
    "#Accessing the first 2 rows as indicated by the html element 'tr'\n",
    "#soup.findAll('tr', limit=2)"
   ]
  },
  {
   "cell_type": "code",
   "execution_count": 31,
   "metadata": {},
   "outputs": [],
   "source": [
    "#Accessing the Table headers to establish column names and finding all of the table rows hat belong to the columns\n",
    "#Extracting the text we need to list\n",
    "#headers = [th.getText() for th in soup.findAll('tr', limit=2)[0].findAll('th')]"
   ]
  },
  {
   "cell_type": "code",
   "execution_count": 32,
   "metadata": {},
   "outputs": [],
   "source": [
    "#This is extracting all of the columns execpt for the first one because we do not need basketball references ranking column\n",
    "#headers = headers[1:]\n",
    "#headers"
   ]
  },
  {
   "cell_type": "code",
   "execution_count": 33,
   "metadata": {},
   "outputs": [],
   "source": [
    "#Brining in all of the rows except for the first is this is basic website row not needed for the dataframe\n",
    "#rows = soup.findAll('tr')[1:]\n",
    "#player_stats = [[td.getText() for td in rows[i].findAll('td')]\n",
    "          #  for i in range(len(rows))]"
   ]
  },
  {
   "cell_type": "code",
   "execution_count": 34,
   "metadata": {},
   "outputs": [],
   "source": [
    "#stats = pd.DataFrame(player_stats, columns = headers)\n",
    "#stats.head(40)"
   ]
  },
  {
   "cell_type": "code",
   "execution_count": 35,
   "metadata": {},
   "outputs": [],
   "source": [
    "#stats.to_csv(\"nba_stats_2019.csv\", index=False)"
   ]
  },
  {
   "cell_type": "code",
   "execution_count": 36,
   "metadata": {},
   "outputs": [],
   "source": [
    "#stats.Tm.unique()"
   ]
  },
  {
   "cell_type": "code",
   "execution_count": 37,
   "metadata": {},
   "outputs": [],
   "source": [
    "#Next workbook to look at is the NBA_PRODUCTION_2019 workbook"
   ]
  },
  {
   "cell_type": "markdown",
   "metadata": {},
   "source": [
    "## End of Notebook"
   ]
  }
 ],
 "metadata": {
  "kernelspec": {
   "display_name": "Python 3",
   "language": "python",
   "name": "python3"
  },
  "language_info": {
   "codemirror_mode": {
    "name": "ipython",
    "version": 3
   },
   "file_extension": ".py",
   "mimetype": "text/x-python",
   "name": "python",
   "nbconvert_exporter": "python",
   "pygments_lexer": "ipython3",
   "version": "3.7.3"
  }
 },
 "nbformat": 4,
 "nbformat_minor": 4
}
