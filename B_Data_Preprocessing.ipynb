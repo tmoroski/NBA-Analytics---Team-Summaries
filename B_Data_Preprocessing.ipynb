{
 "cells": [
  {
   "cell_type": "markdown",
   "metadata": {},
   "source": [
    "# Data Preprocessing and Tableau Export"
   ]
  },
  {
   "cell_type": "code",
   "execution_count": 1,
   "metadata": {},
   "outputs": [],
   "source": [
    "import pandas as pd"
   ]
  },
  {
   "cell_type": "code",
   "execution_count": 2,
   "metadata": {},
   "outputs": [],
   "source": [
    "#Dataframe creation from scrapped excel sheets\n",
    "df_2020 = pd.read_csv('2020_Player_stats.csv')\n",
    "df_2019 = pd.read_csv('2019_Player_stats.csv')\n",
    "df_2018 = pd.read_csv('2018_Player_stats.csv')\n",
    "df_2017 = pd.read_csv('2017_Player_stats.csv')\n",
    "df_2016 = pd.read_csv('2016_Player_stats.csv')\n",
    "df_2015 = pd.read_csv('2015_Player_stats.csv')\n",
    "df_2014 = pd.read_csv('2014_Player_stats.csv')\n",
    "df_2013 = pd.read_csv('2013_Player_stats.csv')\n",
    "df_2012 = pd.read_csv('2012_Player_stats.csv')\n",
    "df_2011 = pd.read_csv('2011_Player_stats.csv')\n",
    "df_2010 = pd.read_csv('2010_Player_stats.csv')\n",
    "df_2009 = pd.read_csv('2009_Player_stats.csv')\n",
    "df_2008 = pd.read_csv('2008_Player_stats.csv')\n",
    "df_2007 = pd.read_csv('2007_Player_stats.csv')\n",
    "df_2006 = pd.read_csv('2006_Player_stats.csv')\n",
    "df_2005 = pd.read_csv('2005_Player_stats.csv')\n",
    "df_2004 = pd.read_csv('2004_Player_stats.csv')\n",
    "df_2003 = pd.read_csv('2003_Player_stats.csv')\n",
    "df_2002 = pd.read_csv('2002_Player_stats.csv')\n",
    "df_2001 = pd.read_csv('2001_Player_stats.csv')\n",
    "df_2000 = pd.read_csv('2000_Player_stats.csv')"
   ]
  },
  {
   "cell_type": "code",
   "execution_count": 4,
   "metadata": {},
   "outputs": [],
   "source": [
    "stat_dfs =[df_2020,df_2019,df_2018,df_2017,df_2016,df_2015,df_2014,df_2013,df_2012,df_2011,df_2010,df_2009,\n",
    "          df_2008,df_2007,df_2006,df_2005,df_2004,df_2003,df_2002,df_2001,df_2000]"
   ]
  },
  {
   "cell_type": "code",
   "execution_count": 5,
   "metadata": {},
   "outputs": [],
   "source": [
    "combined_stats = pd.concat(stat_dfs)"
   ]
  },
  {
   "cell_type": "code",
   "execution_count": 6,
   "metadata": {},
   "outputs": [
    {
     "data": {
      "text/plain": [
       "array([2020, 2019, 2018, 2017, 2016, 2015, 2014, 2013, 2012, 2011, 2010,\n",
       "       2009, 2008, 2007, 2006, 2005, 2004, 2003, 2002, 2001, 2000])"
      ]
     },
     "execution_count": 6,
     "metadata": {},
     "output_type": "execute_result"
    }
   ],
   "source": [
    "#Error Handling\n",
    "combined_stats['Season'].unique()"
   ]
  },
  {
   "cell_type": "code",
   "execution_count": 7,
   "metadata": {},
   "outputs": [],
   "source": [
    "combined_stats.to_csv('NBA_Player_Stats_2020_2010.csv',index = False)"
   ]
  },
  {
   "cell_type": "markdown",
   "metadata": {},
   "source": [
    "## End of Notebook"
   ]
  }
 ],
 "metadata": {
  "kernelspec": {
   "display_name": "Python 3",
   "language": "python",
   "name": "python3"
  },
  "language_info": {
   "codemirror_mode": {
    "name": "ipython",
    "version": 3
   },
   "file_extension": ".py",
   "mimetype": "text/x-python",
   "name": "python",
   "nbconvert_exporter": "python",
   "pygments_lexer": "ipython3",
   "version": "3.7.3"
  }
 },
 "nbformat": 4,
 "nbformat_minor": 4
}
