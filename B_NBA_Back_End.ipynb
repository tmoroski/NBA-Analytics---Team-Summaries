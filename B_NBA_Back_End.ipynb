{
 "cells": [
  {
   "cell_type": "code",
   "execution_count": 234,
   "metadata": {},
   "outputs": [],
   "source": [
    "#Imports\n",
    "import pandas as pd\n",
    "import numpy as np\n",
    "import matplotlib.pyplot as plt\n",
    "#Need to install inorder to add in the etl data\n",
    "import import_ipynb\n",
    "#NOTEBOOK CONNECTION PROCESS\n",
    "#First -> pip install import-ipynb\n",
    "#Second -> import import_ipynb\n",
    "#Third -> import \"Notebook Name\" as \"xxx\""
   ]
  },
  {
   "cell_type": "code",
   "execution_count": 235,
   "metadata": {},
   "outputs": [],
   "source": [
    "#Attaching the backend notebook\n",
    "import A_NBA_Data_ETL as etl"
   ]
  },
  {
   "cell_type": "code",
   "execution_count": 236,
   "metadata": {},
   "outputs": [],
   "source": [
    "nba_dataset = etl.stats"
   ]
  },
  {
   "cell_type": "code",
   "execution_count": 237,
   "metadata": {},
   "outputs": [],
   "source": [
    "nba_dataset['PTS'] = pd.to_numeric(nba_dataset['PTS'])\n",
    "nba_dataset['AST'] = pd.to_numeric(nba_dataset['AST'])\n",
    "nba_dataset['TRB'] = pd.to_numeric(nba_dataset['TRB'])\n",
    "nba_dataset['MP'] = pd.to_numeric(nba_dataset['MP'])"
   ]
  },
  {
   "cell_type": "code",
   "execution_count": 238,
   "metadata": {},
   "outputs": [],
   "source": [
    "#Loading in the backend data file into a dataframe\n",
    "#Script for loading in the csv file if need\n",
    "#nba_dataset = pd.read_csv(\"nba_stats_2019.csv\")"
   ]
  },
  {
   "cell_type": "code",
   "execution_count": 239,
   "metadata": {},
   "outputs": [],
   "source": [
    "#Creating dataframes for each NBA team\n",
    "okc_stats_2019 = nba_dataset[nba_dataset.Tm == 'OKC']\n",
    "mia_stats_2019 = nba_dataset[nba_dataset.Tm == 'MIA']\n",
    "sas_stats_2019 = nba_dataset[nba_dataset.Tm == 'SAS']\n",
    "nop_stats_2019 = nba_dataset[nba_dataset.Tm == 'NOP']\n",
    "mem_stats_2019 = nba_dataset[nba_dataset.Tm == 'MEM']\n",
    "brk_stats_2019 = nba_dataset[nba_dataset.Tm == 'BRK']\n",
    "nyk_stats_2019 = nba_dataset[nba_dataset.Tm == 'NYK']\n",
    "orl_stats_2019 = nba_dataset[nba_dataset.Tm == 'ORL']\n",
    "hou_stats_2019 = nba_dataset[nba_dataset.Tm == 'HOU']\n",
    "mil_stats_2019 = nba_dataset[nba_dataset.Tm == 'MIL']\n",
    "lal_stats_2019 = nba_dataset[nba_dataset.Tm == 'LAL']\n",
    "por_stats_2019 = nba_dataset[nba_dataset.Tm == 'POR']\n",
    "tor_stats_2019 = nba_dataset[nba_dataset.Tm == 'TOR']\n",
    "chi_stats_2019 = nba_dataset[nba_dataset.Tm == 'CHI']\n",
    "sac_stats_2019 = nba_dataset[nba_dataset.Tm == 'SAC']\n",
    "pho_stats_2019 = nba_dataset[nba_dataset.Tm == 'PHO']\n",
    "cho_stats_2019 = nba_dataset[nba_dataset.Tm == 'CHO']\n",
    "dal_stats_2019 = nba_dataset[nba_dataset.Tm == 'DAL']\n",
    "den_stats_2019 = nba_dataset[nba_dataset.Tm == 'DEN']\n",
    "min_stats_2019 = nba_dataset[nba_dataset.Tm == 'MIN']\n",
    "was_stats_2019 = nba_dataset[nba_dataset.Tm == 'WAS']\n",
    "atl_stats_2019 = nba_dataset[nba_dataset.Tm == 'ATL']\n",
    "lac_stats_2019 = nba_dataset[nba_dataset.Tm == 'LAC']\n",
    "ind_stats_2019 = nba_dataset[nba_dataset.Tm == 'IND']\n",
    "uta_stats_2019 = nba_dataset[nba_dataset.Tm == 'UTA']\n",
    "phi_stats_2019 = nba_dataset[nba_dataset.Tm == 'PHI']\n",
    "det_stats_2019 = nba_dataset[nba_dataset.Tm == 'DET']\n",
    "gsw_stats_2019 = nba_dataset[nba_dataset.Tm == 'GSW']\n",
    "bos_stats_2019 = nba_dataset[nba_dataset.Tm == 'BOS']\n",
    "cle_stats_2019 = nba_dataset[nba_dataset.Tm == 'CLE']\n",
    "#Creating a cumulative dataset\n",
    "cumulative_nba_stats_2019 = nba_dataset.copy()"
   ]
  },
  {
   "cell_type": "code",
   "execution_count": 240,
   "metadata": {},
   "outputs": [],
   "source": [
    "#Plotly Bar chart Syntax for a single itemized barcharts\n",
    "def team_points_plot(n):\n",
    "    data = [go.Bar(x=n['Player'],y=n['PTS'])]\n",
    "    layout = go.Layout(title='Points Per Player')\n",
    "    fig = go.Figure(data = data,layout =layout)\n",
    "    fig.show(renderer='plotly_mimetype')\n",
    "    #pyo.plot(fig)\n",
    "#Plotly Syntax for stacked bar, bar charts\n",
    "def team_pts_ast_rbs(j):\n",
    "    pts_section = go.Bar(x=j['Player'],y=j['PTS'],\n",
    "                     name = 'Points',\n",
    "                     marker = {'color':'#FFD700'})\n",
    "    ast_section =go.Bar(x=j['Player'],y=j['AST'],\n",
    "                     name = 'Asissts',\n",
    "                     marker = {'color':'#9EA0A1'})\n",
    "    trb_section =go.Bar(x=j['Player'],y=j['TRB'],\n",
    "                     name = 'Rebounds',\n",
    "                     marker = {'color':'#CD7F32'})\n",
    "    data =[pts_section,ast_section,trb_section]\n",
    "    layout = go.Layout(title = 'Offense Stats Leaders',barmode = 'stack')\n",
    "    fig=go.Figure(data =data, layout = layout)\n",
    "    pyo.plot(fig)"
   ]
  },
  {
   "cell_type": "code",
   "execution_count": 241,
   "metadata": {},
   "outputs": [],
   "source": [
    "def summary_plotter(n):\n",
    "    fig = plt.figure(figsize=(16,13))\n",
    "    gridsize=(3,3)\n",
    "    fig.text(x=.8\n",
    "         ,y=.95\n",
    "         ,s=\"Sources: NBA Reference.com\"\n",
    "         ,horizontalalignment='left',color='#524939')\n",
    "    ax1 = plt.subplot2grid(gridsize, (0, 0), colspan=3)\n",
    "    n.plot(kind='barh',x='Player',y='PTS',ax=ax1,title='Points')\n",
    "    ax2 = plt.subplot2grid(gridsize, (1, 0), colspan=2)\n",
    "    n.plot(kind='barh',x='Player',y='AST',ax=ax2,color='r',title='Assists')\n",
    "    ax3 = plt.subplot2grid(gridsize, (1, 2),rowspan=2)\n",
    "    n.plot(kind='bar',x='Player',y='MP',ax=ax3,color='y',title='Minutes')\n",
    "    ax4 = plt.subplot2grid(gridsize, (2, 0),colspan=2)\n",
    "    n.plot(kind='barh',x='Player',y='TRB',ax=ax4,color='g',title='Total Rebounds')"
   ]
  },
  {
   "cell_type": "markdown",
   "metadata": {},
   "source": [
    "## Test block"
   ]
  },
  {
   "cell_type": "code",
   "execution_count": 242,
   "metadata": {},
   "outputs": [],
   "source": [
    "#summary_plotter(phi_stats_2019)"
   ]
  },
  {
   "cell_type": "markdown",
   "metadata": {},
   "source": [
    "## Archive Code"
   ]
  },
  {
   "cell_type": "code",
   "execution_count": 243,
   "metadata": {},
   "outputs": [],
   "source": [
    "#fig = plt.figure(figsize=(15,12))\n",
    "#grid_size=(3,2)\n",
    "#hosts_to_fmt=[]\n",
    "#Placing a title on the figure\n",
    "#fig.text(x=.8\n",
    "       #  ,y=.95\n",
    "       #  ,s=\"Sources: NBA Reference.com\"\n",
    "        # ,horizontalalignment='left',color='#524939')\n",
    "#large_left_ax = plt.subplot2grid(grid_size,(0,0), colspan=1,rowspan=3)\n",
    "#okc_stats_2019.plot(kind='barh',x='Player',y='PTS',ax=large_left_ax)\n",
    "#plt.title('Points by Player')\n",
    "#ax2 = plt.subplot2grid(grid_size,(0,0),colspan=2,rowspan=3)\n",
    "#okc_stats_2019.plot(kind='barh',x='Player',y='AST',ax=ax2)\n",
    "#right_upper_ax = plt.subplot2grid()"
   ]
  },
  {
   "cell_type": "code",
   "execution_count": 244,
   "metadata": {},
   "outputs": [],
   "source": [
    "#fig = plt.figure(figsize=(16,13))\n",
    "#gridsize=(3,3)\n",
    "#fig.text(x=.8\n",
    " #        ,y=.95\n",
    "  #       ,s=\"Sources: NBA Reference.com\"\n",
    "   #      ,horizontalalignment='left',color='#524939')\n",
    "#ax1 = plt.subplot2grid(gridsize, (0, 0), colspan=3)\n",
    "#okc_stats_2019.plot(kind='barh',x='Player',y='PTS',ax=ax1,title='Points')\n",
    "#ax2 = plt.subplot2grid(gridsize, (1, 0), colspan=2)\n",
    "#okc_stats_2019.plot(kind='barh',x='Player',y='AST',ax=ax2,color='r',title='Assists')\n",
    "#ax3 = plt.subplot2grid(gridsize, (1, 2),rowspan=2)\n",
    "#okc_stats_2019.plot(kind='bar',x='Player',y='MP',ax=ax3,color='y',title='Minutes')\n",
    "#ax4 = plt.subplot2grid(gridsize, (2, 0),colspan=2)\n",
    "#okc_stats_2019.plot(kind='barh',x='Player',y='TRB',ax=ax4,color='g',title='Total Rebounds')\n",
    "#ax5 = plt.subplot2grid(gridsize, (2, 1))"
   ]
  },
  {
   "cell_type": "code",
   "execution_count": null,
   "metadata": {},
   "outputs": [],
   "source": []
  }
 ],
 "metadata": {
  "kernelspec": {
   "display_name": "Python 3",
   "language": "python",
   "name": "python3"
  },
  "language_info": {
   "codemirror_mode": {
    "name": "ipython",
    "version": 3
   },
   "file_extension": ".py",
   "mimetype": "text/x-python",
   "name": "python",
   "nbconvert_exporter": "python",
   "pygments_lexer": "ipython3",
   "version": "3.7.3"
  }
 },
 "nbformat": 4,
 "nbformat_minor": 2
}
